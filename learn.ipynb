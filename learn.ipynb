{
 "cells": [
  {
   "cell_type": "code",
   "execution_count": null,
   "metadata": {},
   "outputs": [],
   "source": [
    "# required depdendencies - build-essential python 3.12 python3.12-dev\n",
    "%pip install setuptools autodistill autodistill-grounded-sam autodistill-yolov8 roboflow"
   ]
  },
  {
   "cell_type": "code",
   "execution_count": 2,
   "metadata": {},
   "outputs": [
    {
     "name": "stdout",
     "output_type": "stream",
     "text": [
      "trying to load grounding dino directly\n",
      "final text_encoder_type: bert-base-uncased\n"
     ]
    }
   ],
   "source": [
    "from autodistill_grounded_sam import GroundedSAM\n",
    "from autodistill.detection import CaptionOntology\n",
    "from autodistill_yolov8 import YOLOv8\n",
    "\n",
    "# define an ontology to map class names to our GroundingDINO prompt\n",
    "# the ontology dictionary has the format {caption: class}\n",
    "# where caption is the prompt sent to the base model, and class is the label that will\n",
    "# be saved for that caption in the generated annotations\n",
    "base_model = GroundedSAM(ontology=CaptionOntology({\"rabbit\": \"rabbit\"}))\n"
   ]
  },
  {
   "cell_type": "code",
   "execution_count": 2,
   "metadata": {},
   "outputs": [
    {
     "ename": "NameError",
     "evalue": "name 'base_model' is not defined",
     "output_type": "error",
     "traceback": [
      "\u001b[0;31m---------------------------------------------------------------------------\u001b[0m",
      "\u001b[0;31mNameError\u001b[0m                                 Traceback (most recent call last)",
      "Cell \u001b[0;32mIn[2], line 2\u001b[0m\n\u001b[1;32m      1\u001b[0m \u001b[38;5;66;03m# label all images in a folder called `context_images`\u001b[39;00m\n\u001b[0;32m----> 2\u001b[0m \u001b[43mbase_model\u001b[49m\u001b[38;5;241m.\u001b[39mlabel(\n\u001b[1;32m      3\u001b[0m   input_folder\u001b[38;5;241m=\u001b[39m\u001b[38;5;124m\"\u001b[39m\u001b[38;5;124m./images\u001b[39m\u001b[38;5;124m\"\u001b[39m,\n\u001b[1;32m      4\u001b[0m   output_folder\u001b[38;5;241m=\u001b[39m\u001b[38;5;124m\"\u001b[39m\u001b[38;5;124m./trained_dataset\u001b[39m\u001b[38;5;124m\"\u001b[39m\n\u001b[1;32m      5\u001b[0m )\n",
      "\u001b[0;31mNameError\u001b[0m: name 'base_model' is not defined"
     ]
    }
   ],
   "source": [
    "\n",
    "# label all images in a folder called `context_images`\n",
    "base_model.label(\n",
    "  input_folder=\"./images\",\n",
    "  output_folder=\"./trained_dataset\"\n",
    ")"
   ]
  },
  {
   "cell_type": "code",
   "execution_count": 3,
   "metadata": {},
   "outputs": [
    {
     "name": "stderr",
     "output_type": "stream",
     "text": [
      "The `device` argument is deprecated and will be removed in v5 of Transformers.\n",
      "torch.utils.checkpoint: the use_reentrant parameter should be passed explicitly. In version 2.4 we will raise an exception if use_reentrant is not passed. use_reentrant=False is recommended, but if you need to preserve the current default behavior, you can pass use_reentrant=True. Refer to docs for more details on the differences between the two variants.\n",
      "None of the inputs have requires_grad=True. Gradients will be None\n"
     ]
    },
    {
     "ename": "TypeError",
     "evalue": "'method' object is not subscriptable",
     "output_type": "error",
     "traceback": [
      "\u001b[0;31m---------------------------------------------------------------------------\u001b[0m",
      "\u001b[0;31mTypeError\u001b[0m                                 Traceback (most recent call last)",
      "Cell \u001b[0;32mIn[3], line 6\u001b[0m\n\u001b[1;32m      3\u001b[0m image_path \u001b[38;5;241m=\u001b[39m \u001b[38;5;124m\"\u001b[39m\u001b[38;5;124m./animals.v3i/valid/images/Image_58_jpg.rf.5db70d270195e43b09df0b4a61548df3.jpg\u001b[39m\u001b[38;5;124m\"\u001b[39m\n\u001b[1;32m      4\u001b[0m pred \u001b[38;5;241m=\u001b[39m base_model\u001b[38;5;241m.\u001b[39mpredict(image_path)\n\u001b[0;32m----> 6\u001b[0m \u001b[43mplot\u001b[49m\u001b[43m(\u001b[49m\n\u001b[1;32m      7\u001b[0m \u001b[43m    \u001b[49m\u001b[43mimage\u001b[49m\u001b[38;5;241;43m=\u001b[39;49m\u001b[43mcv2\u001b[49m\u001b[38;5;241;43m.\u001b[39;49m\u001b[43mimread\u001b[49m\u001b[43m(\u001b[49m\u001b[43mimage_path\u001b[49m\u001b[43m)\u001b[49m\u001b[43m,\u001b[49m\n\u001b[1;32m      8\u001b[0m \u001b[43m    \u001b[49m\u001b[43mdetections\u001b[49m\u001b[38;5;241;43m=\u001b[39;49m\u001b[43mpred\u001b[49m\u001b[43m,\u001b[49m\n\u001b[1;32m      9\u001b[0m \u001b[43m    \u001b[49m\u001b[43mclasses\u001b[49m\u001b[38;5;241;43m=\u001b[39;49m\u001b[43mbase_model\u001b[49m\u001b[38;5;241;43m.\u001b[39;49m\u001b[43montology\u001b[49m\u001b[38;5;241;43m.\u001b[39;49m\u001b[43mclasses\u001b[49m\n\u001b[1;32m     10\u001b[0m \u001b[43m)\u001b[49m\n",
      "File \u001b[0;32m~/learn_autodistill/.venv/lib/python3.12/site-packages/autodistill/utils.py:73\u001b[0m, in \u001b[0;36mplot\u001b[0;34m(image, detections, classes, raw)\u001b[0m\n\u001b[1;32m     71\u001b[0m     class_id \u001b[38;5;241m=\u001b[39m detection[\u001b[38;5;241m3\u001b[39m]\n\u001b[1;32m     72\u001b[0m     confidence \u001b[38;5;241m=\u001b[39m detection[\u001b[38;5;241m2\u001b[39m]\n\u001b[0;32m---> 73\u001b[0m     label \u001b[38;5;241m=\u001b[39m \u001b[38;5;124mf\u001b[39m\u001b[38;5;124m\"\u001b[39m\u001b[38;5;132;01m{\u001b[39;00m\u001b[43mclasses\u001b[49m\u001b[43m[\u001b[49m\u001b[43mclass_id\u001b[49m\u001b[43m]\u001b[49m\u001b[38;5;132;01m}\u001b[39;00m\u001b[38;5;124m \u001b[39m\u001b[38;5;132;01m{\u001b[39;00mconfidence\u001b[38;5;132;01m:\u001b[39;00m\u001b[38;5;124m0.2f\u001b[39m\u001b[38;5;132;01m}\u001b[39;00m\u001b[38;5;124m\"\u001b[39m\n\u001b[1;32m     74\u001b[0m     labels\u001b[38;5;241m.\u001b[39mappend(label)\n\u001b[1;32m     76\u001b[0m annotated_frame \u001b[38;5;241m=\u001b[39m annotator\u001b[38;5;241m.\u001b[39mannotate(scene\u001b[38;5;241m=\u001b[39mimage\u001b[38;5;241m.\u001b[39mcopy(), detections\u001b[38;5;241m=\u001b[39mdetections)\n",
      "\u001b[0;31mTypeError\u001b[0m: 'method' object is not subscriptable"
     ]
    }
   ],
   "source": [
    "from autodistill.utils import plot\n",
    "import cv2\n",
    "image_path = \"./animals.v3i/valid/images/Image_58_jpg.rf.5db70d270195e43b09df0b4a61548df3.jpg\"\n",
    "pred = base_model.predict(image_path)\n",
    "\n",
    "plot(\n",
    "    image=cv2.imread(image_path),\n",
    "    detections=pred,\n",
    "    classes=base_model.ontology.classes\n",
    ")"
   ]
  },
  {
   "cell_type": "code",
   "execution_count": null,
   "metadata": {},
   "outputs": [],
   "source": [
    "target_model = YOLOv8(\"yolov8n.pt\")\n",
    "target_model.train(\"./dataset/data.yaml\", epochs=200)\n",
    "\n",
    "# run inference on the new model\n",
    "pred = target_model.predict(\"./animals.v3i/valid/images/Image_58_jpg.rf.5db70d270195e43b09df0b4a61548df3.jpg\", confidence=0.5)\n",
    "print(pred)\n",
    "\n",
    "# optional: upload your model to Roboflow for deployment\n",
    "from roboflow import Roboflow\n",
    "\n",
    "rf = Roboflow(api_key=\"API_KEY\")\n",
    "project = rf.workspace().project(\"PROJECT_ID\")\n",
    "project.version(DATASET_VERSION).deploy(model_type=\"yolov8\", model_path=f\"./runs/detect/train/\")"
   ]
  }
 ],
 "metadata": {
  "kernelspec": {
   "display_name": ".venv",
   "language": "python",
   "name": "python3"
  },
  "language_info": {
   "codemirror_mode": {
    "name": "ipython",
    "version": 3
   },
   "file_extension": ".py",
   "mimetype": "text/x-python",
   "name": "python",
   "nbconvert_exporter": "python",
   "pygments_lexer": "ipython3",
   "version": "3.12.3"
  }
 },
 "nbformat": 4,
 "nbformat_minor": 2
}
