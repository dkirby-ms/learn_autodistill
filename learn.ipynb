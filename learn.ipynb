{
 "cells": [
  {
   "cell_type": "code",
   "execution_count": null,
   "metadata": {},
   "outputs": [],
   "source": [
    "# required depdendencies - build-essential python 3.12 python3.12-dev\n",
    "%pip install setuptools autodistill autodistill-grounded-sam autodistill-yolov8 roboflow"
   ]
  },
  {
   "cell_type": "code",
   "execution_count": null,
   "metadata": {},
   "outputs": [],
   "source": [
    "from autodistill_grounded_sam import GroundedSAM\n",
    "from autodistill.detection import CaptionOntology\n",
    "from autodistill_yolov8 import YOLOv8\n",
    "\n",
    "# define an ontology to map class names to our GroundingDINO prompt\n",
    "# the ontology dictionary has the format {caption: class}\n",
    "# where caption is the prompt sent to the base model, and class is the label that will\n",
    "# be saved for that caption in the generated annotations\n",
    "base_model = GroundedSAM(ontology=CaptionOntology({\"rabbit\": \"rabbit\"}))\n"
   ]
  },
  {
   "cell_type": "code",
   "execution_count": null,
   "metadata": {},
   "outputs": [],
   "source": [
    "\n",
    "# label all images in a folder called `context_images` using GroundingSAM\n",
    "base_model.label(\n",
    "  input_folder=\"./images\",\n",
    "  output_folder=\"./labeled_data\"\n",
    ")"
   ]
  },
  {
   "cell_type": "code",
   "execution_count": null,
   "metadata": {},
   "outputs": [],
   "source": [
    "# Train yolov8n pre-trained model with autolabeled data\n",
    "target_model = YOLOv8(\"yolov8n.pt\")\n",
    "target_model.train(\"./labeled_data/data.yaml\", epochs=200)"
   ]
  },
  {
   "cell_type": "code",
   "execution_count": null,
   "metadata": {},
   "outputs": [],
   "source": [
    "# (optional) Load pre-trained model with autolabeled data\n",
    "from autodistill_yolov8 import YOLOv8Base\n",
    "from autodistill.detection import CaptionOntology\n",
    "\n",
    "target_model = YOLOv8Base(ontology=CaptionOntology({\"rabbit\": \"rabbit\"}), weights_path=\"./runs/detect/train/weights/best.pt\")\n",
    "print(target_model.ontology.classes())\n"
   ]
  },
  {
   "cell_type": "code",
   "execution_count": null,
   "metadata": {},
   "outputs": [],
   "source": [
    "# Test trained model against an image\n",
    "\n",
    "from autodistill.utils import plot\n",
    "import cv2\n",
    "image_path = \"./animals.v3i/valid/images/Image_58_jpg.rf.5db70d270195e43b09df0b4a61548df3.jpg\"\n",
    "pred = target_model.predict(image_path)\n",
    "\n",
    "print(pred)\n",
    "plot(\n",
    "    image=cv2.imread(image_path),\n",
    "    detections=pred,\n",
    "    classes=\"rabbit\"\n",
    ")"
   ]
  },
  {
   "cell_type": "code",
   "execution_count": null,
   "metadata": {},
   "outputs": [],
   "source": [
    "# optional: upload your model to Roboflow for deployment\n",
    "from roboflow import Roboflow\n",
    "\n",
    "rf = Roboflow(api_key=\"API_KEY\")\n",
    "project = rf.workspace().project(\"animals-7fizt\")\n",
    "project.version(3).deploy(model_type=\"yolov8\", model_path=f\"./runs/detect/train/\")\n",
    "\n"
   ]
  }
 ],
 "metadata": {
  "kernelspec": {
   "display_name": ".venv",
   "language": "python",
   "name": "python3"
  },
  "language_info": {
   "codemirror_mode": {
    "name": "ipython",
    "version": 3
   },
   "file_extension": ".py",
   "mimetype": "text/x-python",
   "name": "python",
   "nbconvert_exporter": "python",
   "pygments_lexer": "ipython3",
   "version": "3.12.3"
  }
 },
 "nbformat": 4,
 "nbformat_minor": 2
}
